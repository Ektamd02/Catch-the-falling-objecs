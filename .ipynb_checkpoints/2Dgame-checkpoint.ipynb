{
 "cells": [
  {
   "cell_type": "code",
   "execution_count": 3,
   "id": "e864d125-82d7-4560-aa6d-1125208c95e9",
   "metadata": {},
   "outputs": [],
   "source": [
    "import cv2\n",
    "import numpy as np\n",
    "from OpenGL.GL import *\n",
    "from OpenGL.GLUT import *\n",
    "from OpenGL.GLU import *\n",
    "\n",
    "# Initialize global variables\n",
    "window = None\n",
    "width, height = 800, 600\n",
    "basket_x, basket_y = width // 2, 50\n",
    "basket_width, basket_height = 100, 20\n",
    "falling_objects = []\n",
    "fall_speed = 5\n",
    "score = 0\n",
    "\n",
    "# Initialize OpenCV video capture\n",
    "cap = cv2.VideoCapture(0)\n"
   ]
  },
  {
   "cell_type": "code",
   "execution_count": 4,
   "id": "7d3b0c9b-7ddb-461c-b8c5-a0379af9096b",
   "metadata": {},
   "outputs": [],
   "source": [
    "def draw_basket():\n",
    "    glColor3f(1.0, 0.0, 0.0)  # Red color\n",
    "    glBegin(GL_QUADS)\n",
    "    glVertex2f(basket_x - basket_width // 2, basket_y)\n",
    "    glVertex2f(basket_x + basket_width // 2, basket_y)\n",
    "    glVertex2f(basket_x + basket_width // 2, basket_y + basket_height)\n",
    "    glVertex2f(basket_x - basket_width // 2, basket_y + basket_height)\n",
    "    glEnd()\n",
    "\n",
    "def draw_falling_object(x, y):\n",
    "    glColor3f(0.0, 1.0, 0.0)  # Green color\n",
    "    glBegin(GL_QUADS)\n",
    "    glVertex2f(x - 10, y - 10)\n",
    "    glVertex2f(x + 10, y - 10)\n",
    "    glVertex2f(x + 10, y + 10)\n",
    "    glVertex2f(x - 10, y + 10)\n",
    "    glEnd()\n",
    "\n",
    "def draw_score():\n",
    "    glColor3f(1.0, 1.0, 1.0)  # White color\n",
    "    glRasterPos2f(10, height - 20)\n",
    "    for ch in f'Score: {score}':\n",
    "        glutBitmapCharacter(GLUT_BITMAP_HELVETICA_18, ord(ch))\n"
   ]
  },
  {
   "cell_type": "code",
   "execution_count": 5,
   "id": "71c72df7-082b-4cd0-9b05-ceab3aea60be",
   "metadata": {},
   "outputs": [],
   "source": [
    "def update(value):\n",
    "    global falling_objects, score\n",
    "    \n",
    "    # Add new falling object\n",
    "    if np.random.rand() < 0.1:\n",
    "        falling_objects.append([np.random.randint(0, width), height])\n",
    "    \n",
    "    # Move falling objects\n",
    "    new_objects = []\n",
    "    for obj in falling_objects:\n",
    "        obj[1] -= fall_speed\n",
    "        if obj[1] < 0:\n",
    "            continue\n",
    "        new_objects.append(obj)\n",
    "        # Check for collision with basket\n",
    "        if (basket_x - basket_width // 2 < obj[0] < basket_x + basket_width // 2 and\n",
    "            basket_y < obj[1] < basket_y + basket_height):\n",
    "            score += 1\n",
    "            new_objects.remove(obj)\n",
    "    \n",
    "    falling_objects = new_objects\n",
    "    glutPostRedisplay()\n",
    "    glutTimerFunc(50, update, 0)\n"
   ]
  },
  {
   "cell_type": "code",
   "execution_count": 6,
   "id": "07198993-50df-4ca9-90f8-79ef7d84876b",
   "metadata": {},
   "outputs": [],
   "source": [
    "def render():\n",
    "    glClear(GL_COLOR_BUFFER_BIT)\n",
    "    draw_basket()\n",
    "    for obj in falling_objects:\n",
    "        draw_falling_object(obj[0], obj[1])\n",
    "    draw_score()\n",
    "    glutSwapBuffers()\n"
   ]
  },
  {
   "cell_type": "code",
   "execution_count": 7,
   "id": "0a0a816f-29e9-4ea9-96f1-17e8a46a2dbc",
   "metadata": {},
   "outputs": [],
   "source": [
    "def keyboard(key, x, y):\n",
    "    global basket_x\n",
    "    if key == b'a':\n",
    "        basket_x -= 20\n",
    "    elif key == b'd':\n",
    "        basket_x += 20\n",
    "    basket_x = np.clip(basket_x, basket_width // 2, width - basket_width // 2)\n",
    "\n",
    "def mouse_motion(x, y):\n",
    "    global basket_x\n",
    "    basket_x = x\n"
   ]
  },
  {
   "cell_type": "code",
   "execution_count": null,
   "id": "94395421-f483-43ce-b72b-e5cc8d58087f",
   "metadata": {},
   "outputs": [],
   "source": [
    "def main():\n",
    "    global window\n",
    "\n",
    "    glutInit()\n",
    "    glutInitDisplayMode(GLUT_DOUBLE | GLUT_RGB)\n",
    "    glutInitWindowSize(width, height)\n",
    "    window = glutCreateWindow(b\"Catch the Falling Objects\")\n",
    "\n",
    "    glutDisplayFunc(render)\n",
    "    glutKeyboardFunc(keyboard)\n",
    "    glutPassiveMotionFunc(mouse_motion)\n",
    "    glutTimerFunc(50, update, 0)\n",
    "\n",
    "    glClearColor(0.0, 0.0, 0.0, 1.0)\n",
    "    gluOrtho2D(0, width, 0, height)\n",
    "\n",
    "    glutMainLoop()\n",
    "\n",
    "if __name__ == \"__main__\":\n",
    "    main()\n"
   ]
  }
 ],
 "metadata": {
  "kernelspec": {
   "display_name": "Python 3 (ipykernel)",
   "language": "python",
   "name": "python3"
  },
  "language_info": {
   "codemirror_mode": {
    "name": "ipython",
    "version": 3
   },
   "file_extension": ".py",
   "mimetype": "text/x-python",
   "name": "python",
   "nbconvert_exporter": "python",
   "pygments_lexer": "ipython3",
   "version": "3.12.1"
  }
 },
 "nbformat": 4,
 "nbformat_minor": 5
}
